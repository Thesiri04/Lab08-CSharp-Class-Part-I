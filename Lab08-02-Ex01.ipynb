{
 "cells": [
  {
   "cell_type": "markdown",
   "metadata": {},
   "source": [
    "# Lab 8 Exercise 1 \n",
    "##  การสร้าง Class\n"
   ]
  },
  {
   "cell_type": "markdown",
   "metadata": {},
   "source": [
    "\n",
    "1. สร้าง console application project\n"
   ]
  },
  {
   "cell_type": "markdown",
   "metadata": {},
   "source": [
    "1.1 เรียก terminal (cmd) ขึ้นมา \n",
    "\n",
    "1.2 ตรวจสอบให้แน่ใจว่าอยู่ใน folder หรือ directory ที่ต้องการสร้าง project \n",
    "\n",
    "1.3 พิมพ์คำสั่งต่อไปนี้\n",
    "\n",
    "``` \n",
    "    dotnet new console --name Lab08_Ex01\n",
    "```\n",
    "\n",
    "1.4 ใช้คำสั่ง dir เพื่อตรวจสอบดูว่าโฟลเดอร์ของ project ได้ถูกสร้างขึ้นแล้วหรือยัง"
   ]
  },
  {
   "cell_type": "markdown",
   "metadata": {},
   "source": [
    "\n",
    "2. เปลี่ยน code ในไฟล์ program.cs ให้เป็นดังต่อไปนี้ (ตัวเลขข้างหน้า คือหมายเลขบรรทัด ไว้สำหรับอ้างอิง)\n",
    "\n",
    "> ```c#\n",
    "> 1.  Person p = new Person();\n",
    "> 2.  System.Console.WriteLine($\"Type of p is {p.GetType()}\");\n",
    "> 3.  \n",
    "> 4.  class Person\n",
    "> 5.  {\n",
    "> 6.  \n",
    "> 7.  }\n",
    "> ```\n"
   ]
  },
  {
   "cell_type": "markdown",
   "metadata": {},
   "source": [
    "\n",
    "3. Build project โดยการใช้คำสั่ง\n",
    "\n",
    "```\n",
    "dotnet build  Lab08_Ex01\n",
    "```\n"
   ]
  },
  {
   "cell_type": "markdown",
   "metadata": {},
   "source": [
    "\n",
    "4. บันทึกผลที่ได้จากการรันคำสั่งในข้อ 3\n"
   ]
  },
  {
   "cell_type": "markdown",
   "metadata": {},
   "source": [
    "*คำตอบ*"
   ]
  },
  {
   "attachments": {
    "image.png": {
     "image/png": "[encoded data removed]"
    }
   },
   "cell_type": "markdown",
   "metadata": {},
   "source": [
    "![image.png](attachment:image.png)"
   ]
  },
  {
   "cell_type": "markdown",
   "metadata": {},
   "source": [
    "\n",
    "5. Run project โดยการใช้คำสั่ง\n",
    "\n",
    "```\n",
    "dotnet run --project Lab08_Ex01\n",
    "```\n"
   ]
  },
  {
   "cell_type": "markdown",
   "metadata": {},
   "source": [
    "\n",
    "6. บันทึกผลที่ได้จากการรันคำสั่งในข้อ 5\n"
   ]
  },
  {
   "cell_type": "markdown",
   "metadata": {},
   "source": [
    "*คำตอบ*"
   ]
  },
  {
   "attachments": {
    "image.png": {
     "image/png": "[encoded data removed]"
    }
   },
   "cell_type": "markdown",
   "metadata": {},
   "source": [
    "![image.png](attachment:image.png)"
   ]
  },
  {
   "cell_type": "markdown",
   "metadata": {},
   "source": [
    "7. โค้ดต่อไปนี้สามารถรันได้ใน polyglot notebook หรือไม่ "
   ]
  },
  {
   "cell_type": "code",
   "execution_count": null,
   "metadata": {
    "dotnet_interactive": {
     "language": "csharp"
    },
    "polyglot_notebook": {
     "kernelName": "csharp"
    }
   },
   "outputs": [
    {
     "name": "stdout",
     "output_type": "stream",
     "text": [
      "Type of p is Submission#1+Person\r\n"
     ]
    }
   ],
   "source": [
    "Person p = new Person();\n",
    "System.Console.WriteLine($\"Type of p is {p.GetType()}\");\n",
    "\n",
    "class Person\n",
    "{\n",
    "\n",
    "}"
   ]
  },
  {
   "cell_type": "markdown",
   "metadata": {},
   "source": [
    "*คำตอบ*"
   ]
  },
  {
   "cell_type": "markdown",
   "metadata": {},
   "source": [
    "ได้ "
   ]
  },
  {
   "cell_type": "markdown",
   "metadata": {},
   "source": [
    "## คำถาม\n",
    "\n"
   ]
  },
  {
   "cell_type": "markdown",
   "metadata": {},
   "source": [
    "1. Class ในภาษา C# คืออะไร\n"
   ]
  },
  {
   "cell_type": "markdown",
   "metadata": {},
   "source": [
    "*คำตอบ*"
   ]
  },
  {
   "cell_type": "markdown",
   "metadata": {},
   "source": [
    "คือพิมพ์เขียวหรือแม่แบบที่ใช้อธิบายลักษณะและพฤติกรรมของ อ็อบเจ็กต์ (Object) ซึ่งเป็นตัวแทนของสิ่งต่างๆ ในโลกแห่งความจริง"
   ]
  },
  {
   "cell_type": "markdown",
   "metadata": {},
   "source": [
    "2. Class มีหน้าที่อะไร\n"
   ]
  },
  {
   "cell_type": "markdown",
   "metadata": {},
   "source": [
    "*คำตอบ*"
   ]
  },
  {
   "cell_type": "markdown",
   "metadata": {},
   "source": [
    "1. ใช้เป็น แม่แบบ (Blueprint) ในการสร้าง Object\n",
    "2. ใช้ จัดกลุ่มข้อมูลและพฤติกรรม ที่เกี่ยวข้องกัน\n",
    "3. ใช้ ควบคุมการเข้าถึงข้อมูล (Encapsulation)\n",
    "4. ใช้ สืบทอดคุณสมบัติ (Inheritance) เพื่อลดโค้ดซ้ำซ้อน\n",
    "5. ใช้ Polymorphism ทำให้โค้ดยืดหยุ่น"
   ]
  },
  {
   "cell_type": "markdown",
   "metadata": {},
   "source": [
    "3. ทำไมเราต้องใช้ Class\n"
   ]
  },
  {
   "cell_type": "markdown",
   "metadata": {},
   "source": [
    "*คำตอบ*"
   ]
  },
  {
   "cell_type": "markdown",
   "metadata": {},
   "source": [
    "มีโครงสร้างที่ดี อ่านง่าย จัดการง่ายขึ้น ลดความซับซ้อนของโค้ด"
   ]
  },
  {
   "cell_type": "markdown",
   "metadata": {},
   "source": [
    "4. ส่วนประกอบของ Class มีอะไรบ้าง\n"
   ]
  },
  {
   "cell_type": "markdown",
   "metadata": {},
   "source": [
    "*คำตอบ*"
   ]
  },
  {
   "cell_type": "markdown",
   "metadata": {},
   "source": [
    "1. ฟิลด์ (Fields): คือตัวแปรที่เก็บข้อมูลหรือสถานะของอ็อบเจ็กต์ เช่น ชื่อ อายุ สี\n",
    "2. เมธอด (Methods): คือฟังก์ชันที่กำหนดพฤติกรรมหรือการกระทำของอ็อบเจ็กต์ เช่น เดิน วิ่ง กิน\n",
    "3. คอนสตรักเตอร์ (Constructors): คือเมธอดพิเศษที่ใช้สร้างอ็อบเจ็กต์ของคลาส\n",
    "4. พร็อพเพอร์ตี้ (Properties): คือวิธีที่เข้าถึงและแก้ไขข้อมูลของฟิลด์อย่างปลอดภัย"
   ]
  },
  {
   "cell_type": "markdown",
   "metadata": {},
   "source": [
    "5. Class และ Object แตกต่างกันอย่างไร\n"
   ]
  },
  {
   "cell_type": "markdown",
   "metadata": {},
   "source": [
    "*คำตอบ*"
   ]
  },
  {
   "cell_type": "markdown",
   "metadata": {},
   "source": [
    "class คือ แม่แบบให้กับ Object ถ้าไม่มี class ก็จะไม่มี object\n",
    "โดย class มีหน้าที่กำหนดโครงสร้างและพฤติกรรมของ object แต่ object ใช้ class เพื่อสร้างตัวแปรที่ใช้งานจริง"
   ]
  },
  {
   "cell_type": "markdown",
   "metadata": {},
   "source": [
    "6. การตั้งชื่อ Class มีหลักเกณฑ์อย่างไร"
   ]
  },
  {
   "cell_type": "markdown",
   "metadata": {},
   "source": [
    "*คำตอบ*"
   ]
  },
  {
   "cell_type": "markdown",
   "metadata": {},
   "source": [
    "1. เริ่มต้นด้วยตัวอักษรพิมพ์ใหญ่\n",
    "2. เป็นชื่อที่เข้าใจง่าย"
   ]
  },
  {
   "cell_type": "markdown",
   "metadata": {},
   "source": [
    "7. คำสั่ง p.GetType() คืออะไร"
   ]
  },
  {
   "cell_type": "markdown",
   "metadata": {},
   "source": [
    "*คำตอบ*"
   ]
  },
  {
   "cell_type": "markdown",
   "metadata": {},
   "source": [
    "เป็นเมทอดที่ใช้ดึงข้อมูลชนิดของ p (Object) ที่สร้างขึ้น\n",
    "ส่งคืนค่าเป็น System.Type ของ p"
   ]
  },
  {
   "cell_type": "markdown",
   "metadata": {},
   "source": [
    "8. ผลที่ได้จากคำสั่ง  p.GetType() คืออะไร มันให้ข้อมูลอะไรแก่เราบ้าง"
   ]
  },
  {
   "cell_type": "markdown",
   "metadata": {},
   "source": [
    "*คำตอบ*"
   ]
  },
  {
   "cell_type": "markdown",
   "metadata": {},
   "source": [
    "ผลลัพธ์คือ Type of p is Person"
   ]
  },
  {
   "cell_type": "markdown",
   "metadata": {},
   "source": [
    "9. ในภาษา C# การประกาศ class ไว้ก่อนหรือหลังการสร้าง  object ต่างกันหรือไม่ "
   ]
  },
  {
   "cell_type": "markdown",
   "metadata": {},
   "source": [
    "*คำตอบ*"
   ]
  },
  {
   "cell_type": "markdown",
   "metadata": {},
   "source": [
    "ต่างกัน Class ต้องถูกประกาศก่อนถึงจะสร้าง Object ได้"
   ]
  }
 ],
 "metadata": {
  "kernelspec": {
   "display_name": ".NET (C#)",
   "language": "C#",
   "name": ".net-csharp"
  },
  "polyglot_notebook": {
   "kernelInfo": {
    "defaultKernelName": "csharp",
    "items": [
     {
      "aliases": [],
      "languageName": "csharp",
      "name": "csharp"
     }
    ]
   }
  }
 },
 "nbformat": 4,
 "nbformat_minor": 2
}
